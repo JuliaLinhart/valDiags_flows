{
 "cells": [
  {
   "cell_type": "markdown",
   "metadata": {},
   "source": [
    "# PIT for Conditional Flows\n",
    "Project idea based on [this paper](https://arxiv.org/abs/2102.10473). \n",
    "\n",
    "Using the `nflows` library for flow implementations."
   ]
  },
  {
   "cell_type": "markdown",
   "metadata": {},
   "source": [
    "## CONTEXT (1D)\n",
    "\n",
    "Consider the 1D conditional target distribution $f_{\\Theta\\mid X}$ with **unknown density** and we have **no samples**.\n",
    "\n",
    "We only have access to samples from the joint distribution $f_{X,\\Theta}$: $\\quad (\\Theta_1,X_1), \\dots, (\\Theta_n, X_n) \\sim f_{X,\\Theta}$\n",
    "\n",
    "Our estimator $f_{Q\\mid X}$ is a *Normalizing Flow* whose density is **explicitly known**. It is defined by a base distribution $p_U$ (tipically gaussian) and a bijective transformation $T_{\\phi}$: \n",
    "$$U\\sim p_U \\rightarrow Q=T_{\\phi}(U, X) \\sim f_{Q\\mid X}$$ \n",
    "$$f_{Q\\mid X}(q) = p_{U}\\left(T_{\\phi}^{-1}(q, X)\\right)\\left|\\operatorname{det} J_{T_{\\phi}^{-1}}(q, X)\\right|$$ \n",
    "\n",
    "Note that we can also define it's c.d.f. explicitly for a fixed $X=x_0$: $\\quad F_{Q\\mid X=x_0}(q) = \\mathbb{P}(Q\\leq q \\mid X=x_0) =\\mathbb{P}(T_{\\phi}(U, x_0)\\leq q)=\\mathbb{P}(U\\leq T_{\\phi}^{-1}(q, x_0))=F_U(T_{\\phi}^{-1}(q, x_0))$\n",
    "\n",
    "We wish to know evaluate our estimator, with the same method as in the non-conditional case, i.e. with the PIT:\n",
    "\n",
    "$$\\text{PIT}(\\theta, x ; f_{Q\\mid X}) = \\mathbb{P}(Q\\leq \\theta \\mid X=x) = F_{Q \\mid X=x}(\\theta)$$\n",
    "\n",
    "## EVALUATION\n",
    "### True PIT-distribution / Local Consistency\n",
    "For a fixed $X = x_0$ and $\\Theta \\sim f_{\\Theta \\mid X=x_0}$:\n",
    "$$\\begin{align} \n",
    "f_{Q\\mid x_0} = f_{\\Theta\\mid x_0} & \\iff \\text{PIT}(\\Theta, x_0 ; f_{Q\\mid X})) \\sim \\mathcal{U}(0,1)\\\\\n",
    "& \\iff \\mathbb{P}_{\\Theta \\mid x_0}(\\text{PIT}(\\Theta, x_0 ; f_{Q\\mid X})) \\leq \\alpha) = \\alpha, \\quad \\forall \\alpha \\in [0,1]\\\\\n",
    "& \\iff F_{\\Theta \\mid X=x_0}(F_{Q \\mid X=x_0}^{-1}(\\alpha)) = \\alpha, \\quad \\forall \\alpha \\in [0,1]\n",
    "\\end{align}$$\n",
    "\n",
    "We find ourselves with the same result as in the non-conditional 1D case , as $X$ is fixed at $x_0$ (cf. Theorem 2 in paper). \n",
    "\n",
    "**Problem:** We are unable to compute the c.d.f. of the target distribution $F_{\\Theta \\mid X=x_0}$, as the density $f_{\\Theta \\mid x_0}$ is unknown and no samples $\\theta_i \\mid x_0$ are available to approximate it empirically.\n",
    "\n",
    "### Expected PIT-distribution over $X$ / Global Consistency \n",
    "We can however compute the empirical **expected c.d.f. over $X$** by using the samples from the joint distribution. \n",
    "\n",
    "$$\\begin{align}\n",
    "\\mathbb{E}_X[F_{\\Theta\\mid X}(F_{Q\\mid X}(\\alpha)^{-1})] & = \\mathbb{E}_X[\\mathbb{P}_{\\Theta\\mid X}(F_{Q\\mid X}(\\Theta)\\leq \\alpha)]\\\\\n",
    "& = \\mathbb{E}_X[\\mathbb{E}_{\\Theta\\mid X}[\\mathbb{1}_{\\{F_{Q\\mid X}(\\Theta)\\leq \\alpha\\}}]]\\\\\n",
    "& = \\mathbb{E}_{\\Theta, X}[\\mathbb{1}_{\\{F_{Q\\mid X}(\\Theta)\\leq \\alpha\\}}]\\\\\n",
    "& \\approx \\frac{1}{n} \\sum_{i=1}^n \\mathbb{1}_{\\{F_{Q\\mid X_i}(\\Theta_i)\\leq \\alpha\\}}\n",
    "\\end{align}$$\n",
    "\n",
    "This gives us an approximation of the **expected (or joint) PIT-distribution:** \n",
    "\n",
    "$$\\mathbb{E}_X[\\mathbb{P}_{\\Theta \\mid x_0}(\\text{PIT}(\\Theta, x_0 ; f_{Q\\mid X})) \\leq \\alpha)] = \\mathbb{P}_{\\Theta,X}(\\text{PIT}(\\Theta, X; f_{Q\\mid X})\\leq \\alpha) \\approx \\frac{1}{n} \\sum_{i=1}^n \\mathbb{1}_{\\{F_{Q\\mid X_i}(\\Theta_i)\\leq \\alpha\\}}$$\n",
    "\n",
    "#### Result 1: \n",
    "It is still true that if $f_{Q\\mid X} = f_{\\Theta\\mid X} \\forall X$ (global consistency) and $\\Theta, X \\sim f_{\\Theta, X}$, the *joint PIT-distribution* is uniform:\n",
    "\n",
    "$$f_{Q\\mid X} = f_{\\Theta\\mid X} \\Rightarrow \\mathbb{P}_{\\Theta,X}(\\text{PIT}(\\Theta, X; f_{Q\\mid X})\\leq \\alpha) =\\alpha, \\quad \\forall \\alpha \\in [0,1]$$\n",
    "\n",
    "**Problem:** The reverse is not true! This quantity does not allow us to evaluate our estimator (i.e. check global concistency) in a reliable way: we can find globally non-consistent estimators ($f_{Q\\mid X} \\neq f_{\\Theta\\mid X}$), but whose joint PIT-distribution is uniform. \n",
    "\n",
    "#### Result 2: \n",
    "Uniformity of the expected PIT-distribution holds for any estimator $f_{Q\\mid X} = f_{\\Theta\\mid g(X)}$ with $g$ a given function (cf. Theorem 1 in paper).\n",
    "\n",
    "#### Proofs"
   ]
  },
  {
   "cell_type": "markdown",
   "metadata": {},
   "source": [
    "### Illustration via Code \n",
    "\n",
    "Let's look at some code to illustrate this.\n",
    "\n",
    "We consider a target density $\\Theta\\mid X \\sim \\mathcal{N}(X_1+X_2, 1)$ with $X = (X_1, X_2) \\sim \\mathcal{N}(\\mu, \\Sigma)$ where $\\mu = [\\mu_1, \\mu_2]$ and $\\Sigma = \\begin{pmatrix} \\sigma_{1}^2 & \\rho \\sigma_1 \\sigma_2\\\\ \\rho \\sigma_1 \\sigma_2 & \\sigma_{2}^2 \\end{pmatrix}$.\n",
    "\n"
   ]
  },
  {
   "cell_type": "code",
   "execution_count": 105,
   "metadata": {},
   "outputs": [],
   "source": [
    "import numpy as np\n",
    "import matplotlib.pyplot as plt\n",
    "import torch\n",
    "\n",
    "import torch.distributions as D\n",
    "from scipy.stats import multivariate_normal, norm\n",
    "\n",
    "from nde.train import train\n",
    "from nde.flows import construct_maf\n",
    "from plot import plot_pdf_1D\n",
    "\n",
    "# Distribution parameters\n",
    "mu_1 = 0\n",
    "mu_2 = 0\n",
    "sigma_1 = 1\n",
    "sigma_2 = 1\n",
    "rho = 0.8\n",
    "\n",
    "# Distribution of X: 2d gaussian\n",
    "mean = np.array([mu_1,mu_2])\n",
    "covariance = np.array([[sigma_1**2, rho*sigma_1*sigma_2],[rho*sigma_1*sigma_2, sigma_2**2]])\n",
    "x_dist = multivariate_normal(mean=mean, cov=covariance)\n",
    "\n",
    "# Samples from the conditional distribution P(Theta|X)\n",
    "n = 2_000 # nb samples \n",
    "samples_x = x_dist.rvs(n) # samples from P(X)\n",
    "samples_theta = np.array([norm(loc = x[0]+x[1], scale=1).rvs(1) for x in samples_x]) # samples from P(Theta|X)\n"
   ]
  },
  {
   "cell_type": "markdown",
   "metadata": {},
   "source": [
    "#### Result 1: Uniformity of the expected PIT-distribution"
   ]
  },
  {
   "cell_type": "code",
   "execution_count": 106,
   "metadata": {},
   "outputs": [
    {
     "data": {
      "image/png": "[encoded data removed]",
      "text/plain": [
       "<Figure size 432x288 with 1 Axes>"
      ]
     },
     "metadata": {
      "needs_background": "light"
     },
     "output_type": "display_data"
    },
    {
     "data": {
      "image/png": "[encoded data removed]",
      "text/plain": [
       "<Figure size 432x288 with 1 Axes>"
      ]
     },
     "metadata": {
      "needs_background": "light"
     },
     "output_type": "display_data"
    }
   ],
   "source": [
    "# Plot expected PIT-distribution\n",
    "Z = np.array(np.mean([norm.cdf(samples_theta, loc=x[0]+x[1], scale=1) for x in samples_x], axis=0)) # E_X[PIT(Theta, X, f_{Theta|X})]\n",
    "plt.hist(Z)\n",
    "plt.show()\n",
    "\n",
    "# Plot pp_plot\n",
    "alphas = np.linspace(0,1)\n",
    "z_true = [np.mean(Z[:,0] < alpha) for alpha in alphas]\n",
    "plt.plot(alphas, z_true, color='blue')\n",
    "plt.show()"
   ]
  },
  {
   "cell_type": "markdown",
   "metadata": {},
   "source": [
    "#### Result 2: Uniformity of globally non-consistent estimators\n",
    "We consider two NF-estimators:\n",
    "- good MAF: trained on the full context variable $X=(X_1, X_2)$\n",
    "- bad MAF: trained on a non-sufficient context $g(X)=X_1$"
   ]
  },
  {
   "cell_type": "code",
   "execution_count": 107,
   "metadata": {},
   "outputs": [
    {
     "name": "stdout",
     "output_type": "stream",
     "text": [
      "NB training samples:  torch.Size([1800, 2])\n",
      "NB test samples:  torch.Size([200, 2])\n"
     ]
    }
   ],
   "source": [
    "# Get train and test samples: \n",
    "# - train samples are used to train the flow, \n",
    "# - test samples are used to compute the empiriacal r(alpha).\n",
    "\n",
    "samples_x, samples_theta = torch.FloatTensor(samples_x), torch.FloatTensor(samples_theta)\n",
    "test_size = int(0.1* len(samples_theta))\n",
    "train_size = len(samples_theta) - test_size\n",
    "x_train, x_test = samples_x[:train_size], samples_x[train_size:]\n",
    "theta_train, theta_test = samples_theta[:train_size], samples_theta[train_size:]\n",
    "print('NB training samples: ', x_train.shape)\n",
    "print('NB test samples: ', x_test.shape)\n",
    "\n",
    "# Good MAF trained on X=(X_1,X_2)\n",
    "maf_good = construct_maf(theta_train, hidden_features=50, context_features=2, standardize_transform=False)\n",
    "best_val_loss_good, epochs_good = train(maf_good, theta_train, context=x_train, num_epochs=2000, batch_size=10, lr=0.005, validation=True, plot=False, epochs_until_converge=20)\n",
    "\n",
    "# Bad MAF trained on g(X)=(X_1)\n",
    "maf_bad = construct_maf(theta_train, hidden_features=50, context_features=1, standardize_transform=False)\n",
    "best_val_loss_bad, epochs_bad = train(maf_bad, theta_train, context=x_train[:,0].reshape(-1,1), num_epochs=2000, batch_size=10, lr=0.005, validation=True, plot=False, epochs_until_converge=20)"
   ]
  },
  {
   "cell_type": "code",
   "execution_count": 108,
   "metadata": {},
   "outputs": [
    {
     "data": {
      "image/png": "[encoded data removed]",
      "text/plain": [
       "<Figure size 432x288 with 1 Axes>"
      ]
     },
     "metadata": {
      "needs_background": "light"
     },
     "output_type": "display_data"
    }
   ],
   "source": [
    "# expected PIT-distribution\n",
    "cdf_flow = lambda x,context,flow: D.Normal(0,1).cdf(flow._transform(x, context=context)[0])\n",
    "Z_maf_good = np.mean([cdf_flow(theta_test, context=x, flow=maf_good).detach().numpy() for x in x_test], axis=0) # E_X[PIT(Theta, X, good]\n",
    "Z_maf_bad = np.mean([cdf_flow(theta_test, context=x, flow=maf_bad).detach().numpy() for x in x_test[:,0].reshape(-1,1)], axis=0) # E_X[PIT(Theta, X, bad]\n",
    "\n",
    "# Plot pp_plot\n",
    "alphas = np.linspace(0,1)\n",
    "z_maf_good = [np.mean(Z_maf_good[:,0] < alpha) for alpha in alphas]\n",
    "z_maf_bad = [np.mean(Z_maf_bad[:,0] < alpha) for alpha in alphas]\n",
    "\n",
    "plt.plot(alphas, z_true, color='blue', label='True')\n",
    "plt.plot(alphas, z_maf_good, color='orange', label='Good MAF')\n",
    "plt.plot(alphas, z_maf_bad, color='red', label='Bad MAF')\n",
    "plt.legend()\n",
    "plt.title('Expected PIT-distribution')\n",
    "plt.show()"
   ]
  },
  {
   "cell_type": "markdown",
   "metadata": {},
   "source": [
    "Both estimators have uniform PIT-distribution, but the bad MAF is not globally consistent. \n",
    "\n",
    "Indeed, the code below will show that the bad MAF is locally inconsistent, which implies also that it cannot be globally consistent."
   ]
  },
  {
   "cell_type": "code",
   "execution_count": 109,
   "metadata": {},
   "outputs": [
    {
     "data": {
      "text/plain": [
       "tensor([[-0.4535, -0.2953]])"
      ]
     },
     "execution_count": 109,
     "metadata": {},
     "output_type": "execute_result"
    }
   ],
   "source": [
    "# Samples from the conditional distribution Theta|X=X_0\n",
    "x_0 = x_test[0][None,:]\n",
    "n = 2_000 # nb samples \n",
    "samples_theta_x = torch.FloatTensor(norm(loc = x_0[:,0]+x_0[:,1], scale=1).rvs(2_000)).reshape(-1,1) # samples from P(Theta|X=x_0)\n",
    "x_0"
   ]
  },
  {
   "cell_type": "code",
   "execution_count": 110,
   "metadata": {},
   "outputs": [
    {
     "data": {
      "text/plain": [
       "Text(0.5, 1.0, 'Local PIT-distribution')"
      ]
     },
     "execution_count": 110,
     "metadata": {},
     "output_type": "execute_result"
    },
    {
     "data": {
      "image/png": "[encoded data removed]",
      "text/plain": [
       "<Figure size 432x288 with 1 Axes>"
      ]
     },
     "metadata": {
      "needs_background": "light"
     },
     "output_type": "display_data"
    }
   ],
   "source": [
    "# expected PIT-distribution\n",
    "Z_x = norm.cdf(samples_theta_x, loc=x_0[:,0]+x_0[:,1], scale=1) # E_X[PIT(Theta, X, f_{Theta|X})]\n",
    "Z_maf_good_x = cdf_flow(samples_theta_x, context=x_0, flow=maf_good).detach().numpy() # E_X[PIT(Theta, X=x_0, good]\n",
    "Z_maf_bad_x = cdf_flow(samples_theta_x, context=x_0[:,0], flow=maf_bad).detach().numpy() # E_X[PIT(Theta, X=x_0, bad]\n",
    "\n",
    "# Plot pp_plot\n",
    "alphas = np.linspace(0,1)\n",
    "z_true_x = [np.mean(Z_x[:,0] < alpha) for alpha in alphas]\n",
    "z_maf_good_x = [np.mean(Z_maf_good_x[:,0] < alpha) for alpha in alphas]\n",
    "z_maf_bad_x = [np.mean(Z_maf_bad_x[:,0] < alpha) for alpha in alphas]\n",
    "\n",
    "plt.plot(alphas, z_true_x, color='blue', label='True')\n",
    "plt.plot(alphas, z_maf_good_x, color='orange', label='Good MAF')\n",
    "plt.plot(alphas, z_maf_bad_x, color='red', label='Bad MAF')\n",
    "plt.legend()\n",
    "plt.title('Local PIT-distribution')"
   ]
  },
  {
   "cell_type": "markdown",
   "metadata": {},
   "source": [
    "This shows that if our function $g(X)$ doas not caracterize covariate relations between the elements of $X$ (e.g. non-sufficient summary statistics), the expected PIT-distribution will not show us the error, whereas the local PIT-distribution would have.\n",
    "\n",
    "We need a way to claculate the local PIT-distribution! "
   ]
  },
  {
   "cell_type": "code",
   "execution_count": null,
   "metadata": {},
   "outputs": [],
   "source": []
  }
 ],
 "metadata": {
  "interpreter": {
   "hash": "3d597f4c481aa0f25dceb95d2a0067e73c0966dcbd003d741d821a7208527ecf"
  },
  "kernelspec": {
   "display_name": "Python 3.9.5 64-bit ('base': conda)",
   "name": "python3"
  },
  "language_info": {
   "codemirror_mode": {
    "name": "ipython",
    "version": 3
   },
   "file_extension": ".py",
   "mimetype": "text/x-python",
   "name": "python",
   "nbconvert_exporter": "python",
   "pygments_lexer": "ipython3",
   "version": "3.9.5"
  },
  "orig_nbformat": 4
 },
 "nbformat": 4,
 "nbformat_minor": 2
}
