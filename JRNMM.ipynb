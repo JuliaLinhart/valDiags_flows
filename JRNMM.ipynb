{
 "cells": [
  {
   "cell_type": "code",
   "execution_count": 1,
   "metadata": {},
   "outputs": [],
   "source": [
    "from functools import partial\n",
    "from pathlib import Path\n",
    "from turtle import color\n",
    "from setuptools_scm import meta\n",
    "import torch\n",
    "import numpy as np\n",
    "\n",
    "from hnpe.misc import make_label\n",
    "from hnpe.posterior import build_flow, IdentityJRNMM\n",
    "from hnpe.simulator import prior_JRNMM, simulator_JRNMM\n",
    "from hnpe.summary import summary_JRNMM\n",
    "from hnpe.viz import get_posterior\n",
    "from hnpe.eval_sim import plot_pairgrid_with_groundtruth\n",
    "\n",
    "import matplotlib.pyplot as plt"
   ]
  },
  {
   "cell_type": "code",
   "execution_count": 2,
   "metadata": {},
   "outputs": [],
   "source": [
    "PATH = 'saved_experiments/JR-NMM/Flows/'"
   ]
  },
  {
   "cell_type": "code",
   "execution_count": 4,
   "metadata": {},
   "outputs": [
    {
     "name": "stderr",
     "output_type": "stream",
     "text": [
      "/data/parietal/store/work/jlinhart/miniconda3/envs/sdbm/lib/python3.9/site-packages/sbi/neural_nets/flow.py:108: UserWarning: In one-dimensional output space, this flow is limited to Gaussians\n",
      "  warn(f\"In one-dimensional output space, this flow is limited to Gaussians\")\n"
     ]
    }
   ],
   "source": [
    "t_rec = 8\n",
    "single_rec = False\n",
    "theta = [135.0, 220.0, 2000.0, 0.0]\n",
    "# setup the parameters for the example\n",
    "meta_parameters = {}\n",
    "# how many extra observations to consider\n",
    "meta_parameters[\"n_extra\"] = 0\n",
    "# what kind of summary features to use\n",
    "meta_parameters[\"summary\"] = 'Fourier'\n",
    "# the parameters of the ground truth (observed data)\n",
    "meta_parameters[\"theta\"] = torch.tensor(theta)\n",
    "\n",
    "# whether to do naive implementation\n",
    "meta_parameters[\"naive\"] = False\n",
    "\n",
    "# which example case we are considering here\n",
    "meta_parameters[\"case\"] = PATH+\"JRNMM_nextra_{:02}_trec_{}\" \\\n",
    "                \"naive_{}_\" \\\n",
    "                \"single_rec_{}_\"\\\n",
    "                \"C_{:.2f}_\" \\\n",
    "                \"mu_{:.2f}_\" \\\n",
    "                \"sigma_{:.2f}_\" \\\n",
    "                \"gain_{:.2f}\".format(meta_parameters[\"n_extra\"],\n",
    "                                    t_rec,\n",
    "                                    meta_parameters[\"naive\"],\n",
    "                                    single_rec,\n",
    "                                    meta_parameters[\"theta\"][0],\n",
    "                                    meta_parameters[\"theta\"][1],\n",
    "                                    meta_parameters[\"theta\"][2],\n",
    "                                    meta_parameters[\"theta\"][3])\n",
    "\n",
    "# number of rounds to use in the SNPE procedure\n",
    "meta_parameters[\"n_rd\"] = 2\n",
    "# number of simulations per round\n",
    "meta_parameters[\"n_sr\"] = 50_000\n",
    "# number of summary features to consider\n",
    "meta_parameters[\"n_sf\"] = 33\n",
    "# how many seconds the simulations should have (fs = 128 Hz)\n",
    "meta_parameters[\"t_recording\"] = t_rec\n",
    "meta_parameters[\"n_ss\"] = int(128 * meta_parameters[\"t_recording\"])       \n",
    "# label to attach to the SNPE procedure and use for saving files\n",
    "meta_parameters[\"label\"] = make_label(meta_parameters)\n",
    "# run example with the chosen parameters\n",
    "device = \"cpu\"\n",
    "\n",
    "# set prior distribution for the parameters\n",
    "input_parameters = ['C', 'mu', 'sigma', 'gain']\n",
    "prior = prior_JRNMM(parameters=[('C', 10.0, 250.0),\n",
    "                                ('mu', 50.0, 500.0),\n",
    "                                ('sigma', 100.0, 5000.0),\n",
    "                                ('gain', -20.0, +20.0)])\n",
    "\n",
    "# choose how to setup the simulator for training\n",
    "simulator = partial(simulator_JRNMM,\n",
    "                    input_parameters=input_parameters,\n",
    "                    t_recording=meta_parameters[\"t_recording\"],\n",
    "                    n_extra=meta_parameters[\"n_extra\"],\n",
    "                    p_gain=prior,\n",
    "                    single_recording=False)  \n",
    "\n",
    "# choose how to get the summary features\n",
    "summary_extractor = summary_JRNMM(n_extra=meta_parameters[\"n_extra\"],\n",
    "                            d_embedding=meta_parameters[\"n_sf\"],\n",
    "                            n_time_samples=meta_parameters[\"n_ss\"],\n",
    "                            type_embedding=meta_parameters[\"summary\"])\n",
    "\n",
    "# let's use the log power spectral density instead\n",
    "summary_extractor.embedding.net.logscale = True                        \n",
    "\n",
    "# choose a function which creates a neural network density estimator\n",
    "build_nn_posterior = partial(build_flow, \n",
    "                            embedding_net=IdentityJRNMM(),\n",
    "                            naive=meta_parameters[\"naive\"],\n",
    "                            aggregate=True,\n",
    "                            z_score_theta=True,\n",
    "                            z_score_x=True)  \n",
    "\n",
    "# get posterior \n",
    "posterior = get_posterior(\n",
    "    simulator, prior, summary_extractor, build_nn_posterior,\n",
    "    meta_parameters, round_=1\n",
    ")\n"
   ]
  },
  {
   "cell_type": "code",
   "execution_count": 5,
   "metadata": {},
   "outputs": [
    {
     "data": {
      "text/plain": [
       "DirectPosterior(\n",
       "               method_family=snpe,\n",
       "               net=<a JRNMMFlow_nflows_factorized, see `.net` for details>,\n",
       "               prior=prior_JRNMM(Uniform(low: torch.Size([4]), high: torch.Size([4])), 1),\n",
       "               x_shape=torch.Size([1, 33, 1]))\n",
       "               "
      ]
     },
     "execution_count": 5,
     "metadata": {},
     "output_type": "execute_result"
    }
   ],
   "source": [
    "posterior"
   ]
  },
  {
   "cell_type": "code",
   "execution_count": null,
   "metadata": {},
   "outputs": [],
   "source": []
  }
 ],
 "metadata": {
  "interpreter": {
   "hash": "f4c0ea39dc7957e8bf493c0b7917b4de52188e18943806c1b4bb683f381f72db"
  },
  "kernelspec": {
   "display_name": "Python 3.9.7 64-bit ('sdbm': conda)",
   "name": "python3"
  },
  "language_info": {
   "codemirror_mode": {
    "name": "ipython",
    "version": 3
   },
   "file_extension": ".py",
   "mimetype": "text/x-python",
   "name": "python",
   "nbconvert_exporter": "python",
   "pygments_lexer": "ipython3",
   "version": "3.9.7"
  },
  "orig_nbformat": 4
 },
 "nbformat": 4,
 "nbformat_minor": 2
}
